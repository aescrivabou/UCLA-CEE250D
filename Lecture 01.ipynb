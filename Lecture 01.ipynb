{
 "cells": [
  {
   "cell_type": "markdown",
   "id": "6eb352cb",
   "metadata": {},
   "source": [
    "# Lecture 1\n",
    "This is text generated with markdown. You have to select markdown in the dropdown menu.\n",
    "\n",
    "See info here: https://www.ibm.com/docs/en/watson-studio-local/1.2.3?topic=notebooks-markdown-jupyter-cheatsheet"
   ]
  },
  {
   "cell_type": "code",
   "execution_count": 3,
   "id": "146d2447",
   "metadata": {},
   "outputs": [
    {
     "name": "stdout",
     "output_type": "stream",
     "text": [
      "5\n"
     ]
    }
   ],
   "source": [
    "#Comments: this is not going to run because it has the # symbol\n",
    "#Comments are really useful to provide information about the code developed\n",
    "#You have to select code in the dropdown menu to run code\n",
    "\n",
    "#Let's declare a variable\n",
    "x= 2\n",
    "\n",
    "y = 3\n",
    "\n",
    "z = x+y\n",
    "\n",
    "print(z)"
   ]
  },
  {
   "cell_type": "markdown",
   "id": "69b79fd2",
   "metadata": {},
   "source": [
    "## Data types\n",
    "\n",
    "There are different types of data types in Python. Some built-in Python data types are:\n",
    "- Numeric data types: int, float, complex\n",
    "- String data types: str\n",
    "- Sequence types: list, tuple, range\n",
    "- Binary types: bytes, bytearray, memoryview\n",
    "- Mapping data type: dict\n",
    "- Boolean type: bool\n",
    "- Set data types: set, frozenset\n",
    "\n",
    "Source: https://www.stavros.io/tutorials/python/\n",
    "\n",
    "We'll explain briefly some of the most used: numeric, string, lists, dictionaries"
   ]
  },
  {
   "cell_type": "code",
   "execution_count": 4,
   "id": "9d7be197",
   "metadata": {},
   "outputs": [
    {
     "data": {
      "text/plain": [
       "int"
      ]
     },
     "execution_count": 4,
     "metadata": {},
     "output_type": "execute_result"
    }
   ],
   "source": [
    "type(x)"
   ]
  },
  {
   "cell_type": "code",
   "execution_count": 5,
   "id": "ca905a47",
   "metadata": {},
   "outputs": [],
   "source": [
    "y2 = y/2"
   ]
  },
  {
   "cell_type": "code",
   "execution_count": 6,
   "id": "af27d043",
   "metadata": {},
   "outputs": [
    {
     "name": "stdout",
     "output_type": "stream",
     "text": [
      "1.5\n"
     ]
    }
   ],
   "source": [
    "print(y2)"
   ]
  },
  {
   "cell_type": "code",
   "execution_count": 7,
   "id": "0aea943a",
   "metadata": {},
   "outputs": [
    {
     "data": {
      "text/plain": [
       "float"
      ]
     },
     "execution_count": 7,
     "metadata": {},
     "output_type": "execute_result"
    }
   ],
   "source": [
    "type(y2)"
   ]
  },
  {
   "cell_type": "code",
   "execution_count": 1,
   "id": "85726c83",
   "metadata": {},
   "outputs": [
    {
     "data": {
      "text/plain": [
       "list"
      ]
     },
     "execution_count": 1,
     "metadata": {},
     "output_type": "execute_result"
    }
   ],
   "source": [
    "#lists\n",
    "reservoirs = [\"Shasta\", \"Oroville\", \"Folsom\"]\n",
    "capacity = [4.5, 3.5, 0.976]\n",
    "type(reservoirs)"
   ]
  },
  {
   "cell_type": "code",
   "execution_count": 2,
   "id": "63fcf973",
   "metadata": {},
   "outputs": [
    {
     "data": {
      "text/plain": [
       "'Shasta'"
      ]
     },
     "execution_count": 2,
     "metadata": {},
     "output_type": "execute_result"
    }
   ],
   "source": [
    "#Index\n",
    "reservoirs[0]"
   ]
  },
  {
   "cell_type": "code",
   "execution_count": 3,
   "id": "29dad0f4",
   "metadata": {},
   "outputs": [
    {
     "data": {
      "text/plain": [
       "'Oroville'"
      ]
     },
     "execution_count": 3,
     "metadata": {},
     "output_type": "execute_result"
    }
   ],
   "source": [
    "reservoirs[1]"
   ]
  },
  {
   "cell_type": "code",
   "execution_count": 4,
   "id": "f3dc6cae",
   "metadata": {},
   "outputs": [
    {
     "name": "stdout",
     "output_type": "stream",
     "text": [
      "Shasta\n",
      "Oroville\n",
      "['Shasta', 'Oroville']\n",
      "[3.5, 0.976]\n",
      "0.976\n"
     ]
    }
   ],
   "source": [
    "print(reservoirs[0])\n",
    "print(reservoirs[1])\n",
    "print(reservoirs[0:2])\n",
    "print(capacity[1:3])\n",
    "print(capacity[-1])"
   ]
  },
  {
   "cell_type": "code",
   "execution_count": 13,
   "id": "07af9434",
   "metadata": {},
   "outputs": [
    {
     "name": "stdout",
     "output_type": "stream",
     "text": [
      "Shasta\n",
      "Folsom\n",
      "Oroville\n"
     ]
    }
   ],
   "source": [
    "#For and if statements\n",
    "for i in reservoirs:\n",
    "    print(i)"
   ]
  },
  {
   "cell_type": "code",
   "execution_count": 14,
   "id": "b60523e0",
   "metadata": {},
   "outputs": [
    {
     "data": {
      "text/plain": [
       "3"
      ]
     },
     "execution_count": 14,
     "metadata": {},
     "output_type": "execute_result"
    }
   ],
   "source": [
    "len(reservoirs)"
   ]
  },
  {
   "cell_type": "code",
   "execution_count": 7,
   "id": "94d416d2",
   "metadata": {},
   "outputs": [
    {
     "name": "stdout",
     "output_type": "stream",
     "text": [
      "0\n",
      "The capacity of Shasta is larger than 1,000,000 af\n",
      "1\n",
      "The capacity of Oroville is larger than 1,000,000 af\n",
      "2\n",
      "The capacity of Folsom is 0.976\n"
     ]
    }
   ],
   "source": [
    "for i in range(len(reservoirs)):\n",
    "    print(i)\n",
    "    if capacity[i]<1:\n",
    "        print(\"The capacity of \" + reservoirs[i] + \" is \" + str(capacity[i])) #str is used to convert the number into string, and the + is used to concatenate strings\n",
    "    else:\n",
    "        print(\"The capacity of \" + reservoirs[i] + \" is larger than 1,000,000 af\")\n",
    "    "
   ]
  },
  {
   "cell_type": "markdown",
   "id": "cceac495",
   "metadata": {},
   "source": [
    "## A good beginners tutorial here:\n",
    "https://www.youtube.com/playlist?list=PLsyeobzWxl7poL9JTVyndKe62ieoN-MZ3"
   ]
  },
  {
   "cell_type": "markdown",
   "id": "0187b31c",
   "metadata": {},
   "source": [
    "## Packages"
   ]
  },
  {
   "cell_type": "code",
   "execution_count": 13,
   "id": "c02ba853",
   "metadata": {},
   "outputs": [
    {
     "name": "stdout",
     "output_type": "stream",
     "text": [
      "   STATION_ID DURATION     DATE  INFLOW_cfs  OUTFLOW_cfs  STORAGE_af\n",
      "2         DNP        D   1/3/94       656.0        204.0   1584792.0\n",
      "3         DNP        D   1/4/94       656.0        204.0   1584792.0\n",
      "4         DNP        D   1/5/94         NaN          NaN   1583721.0\n",
      "5         DNP        D   1/6/94      1078.0        171.0   1583721.0\n",
      "6         DNP        D   1/7/94      1078.0        171.0         NaN\n",
      "7         DNP        D   1/8/94      1608.0        246.0         NaN\n",
      "8         DNP        D   1/9/94      1574.0        201.0   1581579.0\n",
      "9         DNP        D  1/10/94      1597.0        230.0   1579440.0\n",
      "10        DNP        D  1/11/94         NaN          NaN   1578372.0\n",
      "11        DNP        D  1/12/94         NaN          NaN   1577303.0\n",
      "12        DNP        D  1/13/94      1153.0        237.0   1575169.0\n",
      "13        DNP        D  1/14/94      1153.0        237.0         NaN\n",
      "14        DNP        D  1/15/94       741.0        283.0   1575200.0\n",
      "15        DNP        D  1/16/94      1414.0        497.0   1575200.0\n",
      "16        DNP        D  1/17/94      1210.0        292.0   1571971.0\n",
      "17        DNP        D  1/18/94      1638.0        259.0   1569842.0\n",
      "18        DNP        D  1/19/94         NaN          NaN   1569842.0\n",
      "19        DNP        D  1/20/94      1168.0        245.0   1567715.0\n",
      "10743\n"
     ]
    }
   ],
   "source": [
    "import pandas as pd #pandas is for data analysis and manipulation\n",
    "dpn_data = pd.read_csv('DonPedroData.csv')\n",
    "print(dpn_data[2:20])\n",
    "print(len(dpn_data))"
   ]
  },
  {
   "cell_type": "code",
   "execution_count": 15,
   "id": "979823bf",
   "metadata": {},
   "outputs": [
    {
     "data": {
      "image/png": "[encoded data removed]",
      "text/plain": [
       "<Figure size 640x480 with 1 Axes>"
      ]
     },
     "metadata": {},
     "output_type": "display_data"
    }
   ],
   "source": [
    "import matplotlib.pyplot as plt\n",
    "plt.plot(dpn_data.DATE, dpn_data.INFLOW_cfs)\n",
    "plt.show()"
   ]
  },
  {
   "cell_type": "code",
   "execution_count": 16,
   "id": "1f65eb6b",
   "metadata": {},
   "outputs": [
    {
     "data": {
      "text/plain": [
       "STATION_ID      object\n",
       "DURATION        object\n",
       "DATE            object\n",
       "INFLOW_cfs     float64\n",
       "OUTFLOW_cfs    float64\n",
       "STORAGE_af     float64\n",
       "dtype: object"
      ]
     },
     "execution_count": 16,
     "metadata": {},
     "output_type": "execute_result"
    }
   ],
   "source": [
    "dpn_data.dtypes"
   ]
  },
  {
   "cell_type": "code",
   "execution_count": 22,
   "id": "97ff0f37",
   "metadata": {},
   "outputs": [
    {
     "data": {
      "image/png": "[encoded data removed]",
      "text/plain": [
       "<Figure size 640x480 with 1 Axes>"
      ]
     },
     "metadata": {},
     "output_type": "display_data"
    }
   ],
   "source": [
    "import numpy as np\n",
    "#We transform to datetype\n",
    "dpn_data['DATE']=pd.to_datetime(dpn_data.DATE, format='mixed')\n",
    "#removing negative number\n",
    "dpn_data.loc[dpn_data.INFLOW_cfs<0,\"INFLOW_cfs\"]=np.nan\n",
    "#plotting\n",
    "plt.plot(dpn_data.DATE, dpn_data.INFLOW_cfs)\n",
    "plt.show()"
   ]
  },
  {
   "cell_type": "code",
   "execution_count": null,
   "id": "5721c9b2",
   "metadata": {},
   "outputs": [],
   "source": []
  }
 ],
 "metadata": {
  "kernelspec": {
   "display_name": "Python [conda env:py312]",
   "language": "python",
   "name": "conda-env-py312-py"
  },
  "language_info": {
   "codemirror_mode": {
    "name": "ipython",
    "version": 3
   },
   "file_extension": ".py",
   "mimetype": "text/x-python",
   "name": "python",
   "nbconvert_exporter": "python",
   "pygments_lexer": "ipython3",
   "version": "3.12.2"
  }
 },
 "nbformat": 4,
 "nbformat_minor": 5
}
