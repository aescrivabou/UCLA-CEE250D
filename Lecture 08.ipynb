{
 "cells": [
  {
   "cell_type": "markdown",
   "id": "4bf7fcf0",
   "metadata": {},
   "source": [
    "# Lecture 08\n",
    "## The transportation problem"
   ]
  },
  {
   "cell_type": "code",
   "execution_count": 1,
   "id": "cb78797b",
   "metadata": {},
   "outputs": [
    {
     "name": "stdout",
     "output_type": "stream",
     "text": [
      "[[550]\n",
      " [300]\n",
      " [400]\n",
      " [350]\n",
      " [300]\n",
      " [100]]\n"
     ]
    }
   ],
   "source": [
    "import numpy as np\n",
    "from scipy.optimize import linprog\n",
    "\n",
    "# Define parameters\n",
    "m = 2\n",
    "n = 3\n",
    "\n",
    "p = np.array([40,20])\n",
    "q = np.array([25,10,25])\n",
    "\n",
    "C = np.array([[550,300,400],\n",
    "              [350,300,100]])\n",
    "\n",
    "# Vectorize matrix C\n",
    "C_vec = C.reshape((m*n, 1))\n",
    "\n",
    "print(C_vec)"
   ]
  },
  {
   "cell_type": "code",
   "execution_count": 5,
   "id": "9940ea0c",
   "metadata": {},
   "outputs": [
    {
     "name": "stdout",
     "output_type": "stream",
     "text": [
      "Objective = 20750.000004\n",
      "xa1 = 25.000000\n",
      "xa2 = 10.000000\n",
      "xa3 = 5.000000\n",
      "xb1 = 0.000000\n",
      "xb2 = 0.000000\n",
      "xb3 = 20.000000\n"
     ]
    }
   ],
   "source": [
    "import cvxpy as cvx\n",
    "\n",
    "\n",
    "# Variables\n",
    "xa1 = cvx.Variable(name=\"xa1\")\n",
    "xa2 = cvx.Variable(name=\"xa2\")\n",
    "xa3 = cvx.Variable(name=\"xa3\")\n",
    "xb1 = cvx.Variable(name=\"xb1\")\n",
    "xb2 = cvx.Variable(name=\"xb2\")\n",
    "xb3 = cvx.Variable(name=\"xb3\")\n",
    "\n",
    "\n",
    "# Objective function\n",
    "obj = cvx.Minimize(C_vec[0]*xa1 + C_vec[1]*xa2 + C_vec[2]*xa3 +\n",
    "                   C_vec[3]*xb1 + C_vec[4]*xb2 + C_vec[5]*xb3)\n",
    "\n",
    "#Constraint\n",
    "constraints = [xa1 + xa2 + xa3 == p[0],\n",
    "               xb1 + xb2 + xb3 == p[1],\n",
    "               xa1 + xb1 == q[0],\n",
    "               xa2 + xb2 == q[1],\n",
    "               xa3 + xb3 == q[2],\n",
    "               xa1>=0, xa2 >= 0 , xa3>= 0,\n",
    "               xb1>=0, xb2>=0, xb3>=0]\n",
    "\n",
    "#Solving the problem\n",
    "prob = cvx.Problem(obj, constraints)\n",
    "prob.solve()\n",
    "\n",
    "#Printing the results\n",
    "print('Objective = %f' % obj.value)\n",
    "print('xa1 = %f' % xa1.value)\n",
    "print('xa2 = %f' % xa2.value)\n",
    "print('xa3 = %f' % xa3.value)\n",
    "\n",
    "print('xb1 = %f' % xb1.value)\n",
    "print('xb2 = %f' % xb2.value)\n",
    "print('xb3 = %f' % xb3.value)\n",
    "\n"
   ]
  },
  {
   "cell_type": "markdown",
   "id": "0a55e0fd",
   "metadata": {},
   "source": [
    "## Flow problem (modified Exercise 3.17 from Loucks and van Beek) - no return flows"
   ]
  },
  {
   "cell_type": "code",
   "execution_count": 36,
   "id": "6fd2bf6e",
   "metadata": {},
   "outputs": [
    {
     "name": "stdout",
     "output_type": "stream",
     "text": [
      "Objective = 145.000000\n",
      "x01 = 15.000000\n",
      "x1d1 = 0.000000\n",
      "x12 = 15.000000\n",
      "x2d2 = 0.000000\n",
      "x23 = 15.000000\n",
      "x3d3 = 5.000000\n",
      "x3envf = 10.000000\n",
      "x3excess = -0.000000\n"
     ]
    }
   ],
   "source": [
    "#Flow problem\n",
    "\n",
    "#variables\n",
    "\n",
    "x01 = cvx.Variable(name=\"x01\")\n",
    "x1d1 = cvx.Variable(name=\"x1d1\")\n",
    "x12 = cvx.Variable(name=\"x1d\")\n",
    "x2d2 = cvx.Variable(name=\"x2d2\")\n",
    "x23 = cvx.Variable(name=\"x23\")\n",
    "x3d3 = cvx.Variable(name=\"x3d3\")\n",
    "x3envf = cvx.Variable(name=\"x2envf\")\n",
    "x3excess = cvx.Variable(name=\"x3excess\")\n",
    "\n",
    "#Objective flow (demands)\n",
    "d1 = 30\n",
    "d2 = 40\n",
    "d3 = 20\n",
    "envd = 10\n",
    "\n",
    "#Costs (priorities)\n",
    "cd1 = 2\n",
    "cd2 = 1\n",
    "cd3 = 3\n",
    "cenv = 4\n",
    "\n",
    "\n",
    "\n",
    "# Objective function\n",
    "obj = cvx.Minimize(cenv * (envd - x3envf) + cd3* ( d3 - x3d3) + cd1 * (d1 - x1d1) + cd2 * (d2 -x2d2))\n",
    "\n",
    "#Constraints using fixed inflow\n",
    "constraints = [x01 == 15,\n",
    "               x01 == x1d1 + x12,\n",
    "               x12 == x2d2 + x23,\n",
    "               x23 == x3d3 + x3envf + x3excess,\n",
    "               x01 >=0, \n",
    "               x1d1 >=0, x1d1 <= d1,\n",
    "               x12 >=0,\n",
    "               x2d2 >=0, x2d2 <= d2,\n",
    "               x23 >=0,\n",
    "               x3d3 >=0, x3d3 <= d3,\n",
    "               x3envf >=0, x3envf<=envd,\n",
    "               x3excess >=0]\n",
    "\n",
    "#Solving the problem\n",
    "prob = cvx.Problem(obj, constraints)\n",
    "prob.solve()\n",
    "\n",
    "#Printing the results\n",
    "print('Objective = %f' % obj.value)\n",
    "print('x01 = %f' % x01.value)\n",
    "print('x1d1 = %f' % x1d1.value)\n",
    "print('x12 = %f' % x12.value)\n",
    "\n",
    "print('x2d2 = %f' % x2d2.value)\n",
    "print('x23 = %f' % x23.value)\n",
    "print('x3d3 = %f' % x3d3.value)\n",
    "\n",
    "print('x3envf = %f' % x3envf.value)\n",
    "print('x3excess = %f' % x3excess.value)\n",
    "\n",
    "\n"
   ]
  },
  {
   "cell_type": "markdown",
   "id": "5e8ac563",
   "metadata": {},
   "source": [
    "## Flow example using a function (with the inflow as a parameter)"
   ]
  },
  {
   "cell_type": "code",
   "execution_count": 19,
   "id": "185776da",
   "metadata": {},
   "outputs": [
    {
     "data": {
      "text/plain": [
       "<matplotlib.legend.Legend at 0x18d2d2f90>"
      ]
     },
     "execution_count": 19,
     "metadata": {},
     "output_type": "execute_result"
    },
    {
     "data": {
      "image/png": "[encoded data removed]",
      "text/plain": [
       "<Figure size 640x480 with 1 Axes>"
      ]
     },
     "metadata": {},
     "output_type": "display_data"
    }
   ],
   "source": [
    "#variables = \n",
    "\n",
    "x01 = cvx.Variable(name=\"x01\")\n",
    "x1d1 = cvx.Variable(name=\"x1d1\")\n",
    "x12 = cvx.Variable(name=\"x1d\")\n",
    "x2d2 = cvx.Variable(name=\"x2d2\")\n",
    "x23 = cvx.Variable(name=\"x23\")\n",
    "x3d3 = cvx.Variable(name=\"x3d3\")\n",
    "x3envf = cvx.Variable(name=\"x3envf\")\n",
    "x3excess = cvx.Variable(name=\"x3excess\")\n",
    "\n",
    "#Maximum demands\n",
    "d1 = 30\n",
    "d2 = 40\n",
    "d3 =20\n",
    "envd =10\n",
    "\n",
    "\n",
    "#priorities\n",
    "c1 = 50\n",
    "c2 = 10\n",
    "c3 = 30\n",
    "cenv = 5\n",
    "\n",
    "def calc_flows(inflow):\n",
    "    #obj function\n",
    "    # Objective function\n",
    "    obj = cvx.Minimize(cenv * (envd - x3envf) \n",
    "                       + c3* ( d3 - x3d3) \n",
    "                       + c1 * (d1 - x1d1) \n",
    "                       + c2 * (d2 -x2d2))\n",
    "\n",
    "\n",
    "    #Constraints\n",
    "    constraints = [x01 == inflow,\n",
    "                   x01 == x1d1 + x12,\n",
    "                   x12 == x2d2 + x23,\n",
    "                   x23 == x3d3 + x3envf + x3excess,\n",
    "                   x01 >=0, \n",
    "                   x1d1 >=0, x1d1 <= d1,\n",
    "                   x12 >=0,\n",
    "                   x2d2 >=0, x2d2 <= d2,\n",
    "                   x23 >=0,\n",
    "                   x3d3 >=0, x3d3 <= d3,\n",
    "                   x3envf >=0, x3envf<=envd,\n",
    "                   x3excess >=0]\n",
    "\n",
    "    #Solving the problem\n",
    "    prob = cvx.Problem(obj, constraints)\n",
    "    prob.solve()\n",
    "    \n",
    "    return(x1d1.value, x2d2.value, x3d3.value, x3envf.value, x3excess.value)\n",
    "    \n",
    "\n",
    "flows = []\n",
    "for i in np.arange(1,130):\n",
    "    flows.append(calc_flows(i))\n",
    "\n",
    "import pandas as pd\n",
    "df = pd.DataFrame(flows)\n",
    "\n",
    "import matplotlib.pyplot as plt\n",
    "\n",
    "plt.plot(df.index, df[0], label = \"Demand 1\")\n",
    "plt.plot(df.index, df[1], label = \"Demand 2\")\n",
    "plt.plot(df.index, df[2], label = \"Demand 3\")\n",
    "plt.plot(df.index, df[3]+df[4] , label = \"Env flow\")\n",
    "plt.legend()\n",
    "\n",
    "# #Printing the results\n",
    "# print('Objective = %f' % obj.value)\n",
    "# print('x01 = %f' % x01.value)\n",
    "# print('x1d1 = %f' % x1d1.value)\n",
    "# print('x2d2 = %f' % x2d2.value)\n",
    "# print('x3d3 = %f' % x3d3.value)\n",
    "# print('x3envf = %f' % x3envf.value)\n",
    "# print('x3excess = %f' % x3excess.value)"
   ]
  },
  {
   "cell_type": "code",
   "execution_count": null,
   "id": "fb45bf90",
   "metadata": {},
   "outputs": [],
   "source": []
  }
 ],
 "metadata": {
  "kernelspec": {
   "display_name": "Python [conda env:py312]",
   "language": "python",
   "name": "conda-env-py312-py"
  },
  "language_info": {
   "codemirror_mode": {
    "name": "ipython",
    "version": 3
   },
   "file_extension": ".py",
   "mimetype": "text/x-python",
   "name": "python",
   "nbconvert_exporter": "python",
   "pygments_lexer": "ipython3",
   "version": "3.12.2"
  }
 },
 "nbformat": 4,
 "nbformat_minor": 5
}
