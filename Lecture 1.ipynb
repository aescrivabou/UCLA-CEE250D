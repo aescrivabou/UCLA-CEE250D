{
 "cells": [
  {
   "cell_type": "markdown",
   "id": "6eb352cb",
   "metadata": {},
   "source": [
    "# Lecture 1\n",
    "This is text generated with markdown. You have to select markdown in the dropdown menu.\n",
    "\n",
    "See info here: https://www.ibm.com/docs/en/watson-studio-local/1.2.3?topic=notebooks-markdown-jupyter-cheatsheet"
   ]
  },
  {
   "cell_type": "code",
   "execution_count": 3,
   "id": "146d2447",
   "metadata": {},
   "outputs": [
    {
     "name": "stdout",
     "output_type": "stream",
     "text": [
      "5\n"
     ]
    }
   ],
   "source": [
    "#Comments: this is not going to run because it has the # symbol\n",
    "#Comments are really useful to provide information about the code developed\n",
    "#You have to select code in the dropdown menu to run code\n",
    "\n",
    "#Let's declare a variable\n",
    "x= 2\n",
    "\n",
    "y = 3\n",
    "\n",
    "z = x+y\n",
    "\n",
    "print(z)"
   ]
  },
  {
   "cell_type": "markdown",
   "id": "69b79fd2",
   "metadata": {},
   "source": [
    "## Data types\n",
    "\n",
    "There are different types of data types in Python. Some built-in Python data types are:\n",
    "- Numeric data types: int, float, complex\n",
    "- String data types: str\n",
    "- Sequence types: list, tuple, range\n",
    "- Binary types: bytes, bytearray, memoryview\n",
    "- Mapping data type: dict\n",
    "- Boolean type: bool\n",
    "- Set data types: set, frozenset\n",
    "\n",
    "Source: https://www.stavros.io/tutorials/python/\n",
    "\n",
    "We'll explain briefly some of the most used: numeric, string, lists, dictionaries"
   ]
  },
  {
   "cell_type": "code",
   "execution_count": 4,
   "id": "9d7be197",
   "metadata": {},
   "outputs": [
    {
     "data": {
      "text/plain": [
       "int"
      ]
     },
     "execution_count": 4,
     "metadata": {},
     "output_type": "execute_result"
    }
   ],
   "source": [
    "type(x)"
   ]
  },
  {
   "cell_type": "code",
   "execution_count": 5,
   "id": "ca905a47",
   "metadata": {},
   "outputs": [],
   "source": [
    "y2 = y/2"
   ]
  },
  {
   "cell_type": "code",
   "execution_count": 6,
   "id": "af27d043",
   "metadata": {},
   "outputs": [
    {
     "name": "stdout",
     "output_type": "stream",
     "text": [
      "1.5\n"
     ]
    }
   ],
   "source": [
    "print(y2)"
   ]
  },
  {
   "cell_type": "code",
   "execution_count": 7,
   "id": "0aea943a",
   "metadata": {},
   "outputs": [
    {
     "data": {
      "text/plain": [
       "float"
      ]
     },
     "execution_count": 7,
     "metadata": {},
     "output_type": "execute_result"
    }
   ],
   "source": [
    "type(y2)"
   ]
  },
  {
   "cell_type": "code",
   "execution_count": 8,
   "id": "85726c83",
   "metadata": {},
   "outputs": [
    {
     "data": {
      "text/plain": [
       "list"
      ]
     },
     "execution_count": 8,
     "metadata": {},
     "output_type": "execute_result"
    }
   ],
   "source": [
    "#lists\n",
    "reservoirs = [\"Shasta\", \"Folsom\", \"Oroville\"]\n",
    "capacity = [4.5, 3.5, 0.976]\n",
    "type(reservoirs)"
   ]
  },
  {
   "cell_type": "code",
   "execution_count": 9,
   "id": "63fcf973",
   "metadata": {},
   "outputs": [
    {
     "data": {
      "text/plain": [
       "'Shasta'"
      ]
     },
     "execution_count": 9,
     "metadata": {},
     "output_type": "execute_result"
    }
   ],
   "source": [
    "#Index\n",
    "reservoirs[0]"
   ]
  },
  {
   "cell_type": "code",
   "execution_count": 10,
   "id": "29dad0f4",
   "metadata": {},
   "outputs": [
    {
     "data": {
      "text/plain": [
       "'Folsom'"
      ]
     },
     "execution_count": 10,
     "metadata": {},
     "output_type": "execute_result"
    }
   ],
   "source": [
    "reservoirs[1]"
   ]
  },
  {
   "cell_type": "code",
   "execution_count": 13,
   "id": "f3dc6cae",
   "metadata": {},
   "outputs": [
    {
     "name": "stdout",
     "output_type": "stream",
     "text": [
      "Shasta\n",
      "Folsom\n",
      "['Shasta', 'Folsom']\n",
      "[3.5, 0.976]\n",
      "0.976\n"
     ]
    }
   ],
   "source": [
    "print(reservoirs[0])\n",
    "print(reservoirs[1])\n",
    "print(reservoirs[0:2])\n",
    "print(capacity[1:3])\n",
    "print(capacity[-1])"
   ]
  },
  {
   "cell_type": "code",
   "execution_count": 13,
   "id": "07af9434",
   "metadata": {},
   "outputs": [
    {
     "name": "stdout",
     "output_type": "stream",
     "text": [
      "Shasta\n",
      "Folsom\n",
      "Oroville\n"
     ]
    }
   ],
   "source": [
    "#For and if statements\n",
    "for i in reservoirs:\n",
    "    print(i)"
   ]
  },
  {
   "cell_type": "code",
   "execution_count": 14,
   "id": "b60523e0",
   "metadata": {},
   "outputs": [
    {
     "data": {
      "text/plain": [
       "3"
      ]
     },
     "execution_count": 14,
     "metadata": {},
     "output_type": "execute_result"
    }
   ],
   "source": [
    "len(reservoirs)"
   ]
  },
  {
   "cell_type": "code",
   "execution_count": 20,
   "id": "94d416d2",
   "metadata": {},
   "outputs": [
    {
     "name": "stdout",
     "output_type": "stream",
     "text": [
      "0\n",
      "The capacity of Shasta is larger than 1,000,000 af\n",
      "1\n",
      "The capacity of Folsom is larger than 1,000,000 af\n",
      "2\n",
      "The capacity of Oroville is 0.976\n"
     ]
    }
   ],
   "source": [
    "for i in range(len(capacity)):\n",
    "    print(i)\n",
    "    if capacity[i]<1:\n",
    "        print(\"The capacity of \" + reservoirs[i] + \" is \" + str(capacity[i])) #str is used to convert the number into string, and the + is used to concatenate strings\n",
    "    else:\n",
    "        print(\"The capacity of \" + reservoirs[i] + \" is larger than 1,000,000 af\")"
   ]
  },
  {
   "cell_type": "markdown",
   "id": "cceac495",
   "metadata": {},
   "source": [
    "## A good beginners tutorial here:\n",
    "https://www.youtube.com/playlist?list=PLsyeobzWxl7poL9JTVyndKe62ieoN-MZ3"
   ]
  },
  {
   "cell_type": "code",
   "execution_count": null,
   "id": "d3c9c025",
   "metadata": {},
   "outputs": [],
   "source": []
  }
 ],
 "metadata": {
  "kernelspec": {
   "display_name": "Python [conda env:py312]",
   "language": "python",
   "name": "conda-env-py312-py"
  },
  "language_info": {
   "codemirror_mode": {
    "name": "ipython",
    "version": 3
   },
   "file_extension": ".py",
   "mimetype": "text/x-python",
   "name": "python",
   "nbconvert_exporter": "python",
   "pygments_lexer": "ipython3",
   "version": "3.12.2"
  }
 },
 "nbformat": 4,
 "nbformat_minor": 5
}
