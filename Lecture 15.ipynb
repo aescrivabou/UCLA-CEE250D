{
 "cells": [
  {
   "cell_type": "markdown",
   "id": "4e5f0b05",
   "metadata": {},
   "source": [
    "# Lecture 15: Intro to economic analysis\n",
    "## Intro to economic analysis"
   ]
  },
  {
   "cell_type": "code",
   "execution_count": 21,
   "id": "4969acbd",
   "metadata": {},
   "outputs": [
    {
     "name": "stdout",
     "output_type": "stream",
     "text": [
      "Benefits (in $ millions) are 345.5\n",
      "Costs (in $ millions) are 181.5\n",
      "BCR is 1.9035812672176309\n"
     ]
    }
   ],
   "source": [
    "#Basic CBA\n",
    "lifespan = 50\n",
    "folsom_total_cost = 81500000 # $ cost of construction\n",
    "folsom_oandm = 2000000 #per year\n",
    "\n",
    "annual_ener_gen = 691000000  # kWh\n",
    "wholesale_energy_price = 0.01 # $/kWh\n",
    "\n",
    "#Total costs\n",
    "cba_costs = folsom_total_cost + folsom_oandm*lifespan\n",
    "#Total benefits\n",
    "cba_benefits = annual_ener_gen * wholesale_energy_price * lifespan\n",
    "\n",
    "#BCR\n",
    "print(\"Benefits (in $ millions) are \" + str(cba_benefits/1000000))\n",
    "print(\"Costs (in $ millions) are \" + str(cba_costs/1000000))\n",
    "print(\"BCR is \" + str(cba_benefits/cba_costs))"
   ]
  },
  {
   "cell_type": "code",
   "execution_count": 22,
   "id": "9f34f305",
   "metadata": {},
   "outputs": [
    {
     "name": "stdout",
     "output_type": "stream",
     "text": [
      "Annual payment is 4813508.185025936\n",
      "Total payment is 240675409.2512968\n"
     ]
    }
   ],
   "source": [
    "#Payment with interests\n",
    "r = 0.055\n",
    "folsom_loan_payments = r * (folsom_total_cost)/(1-((1+r)**(-lifespan)))\n",
    "print(\"Annual payment is \" + str(folsom_loan_payments))\n",
    "print(\"Total payment is \" + str(50 * folsom_loan_payments))"
   ]
  },
  {
   "cell_type": "code",
   "execution_count": 23,
   "id": "ac8f4860",
   "metadata": {},
   "outputs": [
    {
     "name": "stdout",
     "output_type": "stream",
     "text": [
      "6813508.185025936\n",
      "2088727.543788022\n"
     ]
    }
   ],
   "source": [
    "#Present value of payments over time\n",
    "payment = folsom_loan_payments\n",
    "pay_plus_om = payment + folsom_oandm\n",
    "print(pay_plus_om)\n",
    "years_after_today = 40\n",
    "discount = 0.03\n",
    "present_value_payment_in_year_y = pay_plus_om/(1+discount)**years_after_today\n",
    "print(present_value_payment_in_year_y)"
   ]
  },
  {
   "cell_type": "code",
   "execution_count": 20,
   "id": "69c098d3",
   "metadata": {},
   "outputs": [
    {
     "name": "stdout",
     "output_type": "stream",
     "text": [
      "4910000.0\n",
      "44833141.27441035\n",
      "2482711.6278905687\n",
      "1.014161840325682\n"
     ]
    }
   ],
   "source": [
    "#CBA if there is no loan for paying the dam\n",
    "annuity = annual_ener_gen*wholesale_energy_price - folsom_oandm\n",
    "NPV = -folsom_total_cost +  (annuity/discount)*(1-(1/(1+discount)**lifespan))\n",
    "print(annuity)\n",
    "print(NPV)\n",
    "\n",
    "#CBA of payments over time including a loan for paying the dam (the more we increase the loan interest the worst it get the CBA)\n",
    "annuity = annual_ener_gen*wholesale_energy_price - pay_plus_om\n",
    "NPV = (annuity/discount)*(1-(1/(1+discount)**lifespan))\n",
    "print(NPV)\n",
    "NPV_benefits = (annual_ener_gen*wholesale_energy_price/discount)*(1-(1/(1+discount)**lifespan))\n",
    "NPV_costs = (pay_plus_om/discount)*(1-(1/(1+discount)**lifespan))\n",
    "BCR_time = NPV_benefits / NPV_costs\n",
    "print(BCR_time)"
   ]
  },
  {
   "cell_type": "code",
   "execution_count": null,
   "id": "1dd980c1",
   "metadata": {},
   "outputs": [],
   "source": []
  }
 ],
 "metadata": {
  "kernelspec": {
   "display_name": "Python [conda env:py312]",
   "language": "python",
   "name": "conda-env-py312-py"
  },
  "language_info": {
   "codemirror_mode": {
    "name": "ipython",
    "version": 3
   },
   "file_extension": ".py",
   "mimetype": "text/x-python",
   "name": "python",
   "nbconvert_exporter": "python",
   "pygments_lexer": "ipython3",
   "version": "3.12.2"
  }
 },
 "nbformat": 4,
 "nbformat_minor": 5
}
